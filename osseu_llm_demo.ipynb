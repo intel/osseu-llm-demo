{
  "cells": [
    {
      "cell_type": "markdown",
      "id": "2f2b94e2-a93a-465e-b964-f046bf574e27",
      "metadata": {
        "id": "2f2b94e2-a93a-465e-b964-f046bf574e27"
      },
      "source": [
        "# FLAN-T5 XXL Demo\n",
        "### Efficient AI: Empowering Large Language Models with Intel® Extension for PyTorch to Combat Carbon Emissions\n",
        "This demo showcases how Intel® Extension for PyTorch can reduce carbon emissions while maintaining the performance of Large Language Models (LLMs). With just a few lines of code, you will see the improvements that can be achieved in both latency and power consumption. Watch our demo to learn more!\n"
      ]
    },
    {
      "cell_type": "markdown",
      "id": "9b03aaa8-a70c-4abc-9a16-8e6b139044c1",
      "metadata": {
        "id": "9b03aaa8-a70c-4abc-9a16-8e6b139044c1"
      },
      "source": [
        "##### Optional: Install libraries. You can find the full list of libraries and the version used for this demo in requirements.txt."
      ]
    },
    {
      "cell_type": "code",
      "execution_count": null,
      "id": "d0ae24aa",
      "metadata": {
        "id": "d0ae24aa"
      },
      "outputs": [],
      "source": [
        "#%pip install gradio\n",
        "#%pip install sentencepiece\n",
        "#%pip install codecarbon\n",
        "#%pip install prometheus_client"
      ]
    },
    {
      "cell_type": "markdown",
      "id": "9d92665c-9830-449f-ae65-bcf6c4eb4308",
      "metadata": {
        "id": "9d92665c-9830-449f-ae65-bcf6c4eb4308"
      },
      "source": [
        "##### Import libraries and download the model:"
      ]
    },
    {
      "cell_type": "code",
      "execution_count": null,
      "id": "4dae9d43",
      "metadata": {
        "scrolled": true,
        "colab": {
          "referenced_widgets": [
            "2539bf772aac448da10515b8e3f13940"
          ]
        },
        "id": "4dae9d43",
        "outputId": "9892a500-2cfa-4d4c-d19a-e3f4469773c1"
      },
      "outputs": [
        {
          "name": "stderr",
          "output_type": "stream",
          "text": [
            "You are using the legacy behaviour of the <class 'transformers.models.t5.tokenization_t5.T5Tokenizer'>. This means that tokens that come after special tokens will not be properly handled. We recommend you to read the related pull request available at https://github.com/huggingface/transformers/pull/24565\n"
          ]
        },
        {
          "data": {
            "application/vnd.jupyter.widget-view+json": {
              "model_id": "2539bf772aac448da10515b8e3f13940",
              "version_major": 2,
              "version_minor": 0
            },
            "text/plain": [
              "Loading checkpoint shards:   0%|          | 0/5 [00:00<?, ?it/s]"
            ]
          },
          "metadata": {},
          "output_type": "display_data"
        }
      ],
      "source": [
        "import torch\n",
        "import codecarbon\n",
        "from codecarbon import EmissionsTracker\n",
        "from transformers import T5Tokenizer, T5ForConditionalGeneration\n",
        "\n",
        "import gradio as gr\n",
        "import time\n",
        "import intel_extension_for_pytorch as ipex\n",
        "\n",
        "# Upload the model\n",
        "tokenizer = T5Tokenizer.from_pretrained(\"google/flan-t5-xxl\")\n",
        "model = T5ForConditionalGeneration.from_pretrained(\"google/flan-t5-xxl\")"
      ]
    },
    {
      "cell_type": "markdown",
      "id": "66d92c4e-8523-4d2c-935d-e638b1b9454e",
      "metadata": {
        "id": "66d92c4e-8523-4d2c-935d-e638b1b9454e"
      },
      "source": [
        "##### Create the chat interface:"
      ]
    },
    {
      "cell_type": "code",
      "execution_count": null,
      "id": "415bf598",
      "metadata": {
        "id": "415bf598",
        "outputId": "ba566742-7cf8-4d62-eadd-cf26cf09f3ae"
      },
      "outputs": [
        {
          "name": "stderr",
          "output_type": "stream",
          "text": [
            "/home/stef/.local/lib/python3.8/site-packages/intel_extension_for_pytorch/frontend.py:474: UserWarning: Conv BatchNorm folding failed during the optimize process.\n",
            "  warnings.warn(\"Conv BatchNorm folding failed during the optimize process.\")\n",
            "[codecarbon INFO @ 15:28:45] Energy consumed for RAM : 0.017309 kWh. RAM Power : 64.9163031578064 W\n",
            "[codecarbon INFO @ 15:28:45] Energy consumed for all CPUs : 0.011333 kWh. Total CPU Power : 42.5 W\n",
            "[codecarbon INFO @ 15:28:45] 0.028642 kWh of electricity used since the beginning.\n",
            "/home/stef/.local/lib/python3.8/site-packages/intel_extension_for_pytorch/frontend.py:479: UserWarning: Linear BatchNorm folding failed during the optimize process.\n",
            "  warnings.warn(\"Linear BatchNorm folding failed during the optimize process.\")\n"
          ]
        }
      ],
      "source": [
        "model.eval()\n",
        "#Create a version of the model that is optimized by Intel Extension for PyTorch\n",
        "model_o = ipex.optimize(model, dtype=torch.bfloat16)\n",
        "\n",
        "#Gradio demo\n",
        "with gr.Blocks() as demo:\n",
        "    with gr.Row():\n",
        "        with gr.Column(scale=1, min_width=600):\n",
        "            text1 = gr.Button(value=\"PyTorch* with mkldnn backend turned off\")\n",
        "        with gr.Column(scale=1, min_width=600):\n",
        "            text2 = gr.Button(value=\"PyTorch* + Intel® Extension for PyTorch Optimizer + Auto Mixed Precision\")\n",
        "    with gr.Row():\n",
        "        #Unoptimized performance\n",
        "        with gr.Column(scale=1, min_width=600):\n",
        "            chatbot = gr.Chatbot()\n",
        "            msg = gr.Textbox()\n",
        "            clear = gr.ClearButton([msg, chatbot])\n",
        "\n",
        "            def respond(message, chat_history):\n",
        "                try:\n",
        "                    input_ids = tokenizer(message, return_tensors=\"pt\").input_ids\n",
        "                    with torch.backends.mkldnn.flags(enabled=False):\n",
        "                        tracker = EmissionsTracker()\n",
        "                        tracker.start()\n",
        "                        time1=time.time()\n",
        "                        with torch.no_grad():\n",
        "                            outputs_u = model.generate(input_ids, max_new_tokens=200)\n",
        "                        time2=time.time()\n",
        "                        emissions_no_ipex: float = tracker.stop()\n",
        "                        emissions_no_ipex=emissions_no_ipex*1000000 #convert to mg\n",
        "\n",
        "                    latency_u=time2-time1\n",
        "                    latency_msg=\"Latency: \"+str(latency_u)+\" s\"\n",
        "                    emission_msg=\"Emissions: \"+str(emissions_no_ipex)+\" mgCO2.eq\"\n",
        "                    bot_message = str(tokenizer.decode(outputs_u[0]))+\"\\n\"+latency_msg+\"\\n\"+emission_msg\n",
        "                except Exception as e:\n",
        "                    bot_message = e.__doc__\n",
        "                chat_history.append((message, bot_message))\n",
        "                return \"\", chat_history\n",
        "\n",
        "            msg.submit(respond, [msg, chatbot], [msg, chatbot])\n",
        "\n",
        "        #Optimized performance (model_o)\n",
        "        with gr.Column(scale=1, min_width=600):\n",
        "\n",
        "            chatbot = gr.Chatbot()\n",
        "            msg = gr.Textbox()\n",
        "            clear = gr.ClearButton([msg, chatbot])\n",
        "\n",
        "\n",
        "            def respond(message, chat_history):\n",
        "                try:\n",
        "                    input_ids = tokenizer(message, return_tensors=\"pt\").input_ids\n",
        "                    tracker = EmissionsTracker()\n",
        "                    tracker.start()\n",
        "                    time3=time.time()\n",
        "                    with torch.no_grad(), torch.cpu.amp.autocast():\n",
        "                        outputs_o = model_o.generate(input_ids, max_new_tokens=200)\n",
        "                    time4=time.time()\n",
        "                    emissions_ipex: float = tracker.stop()\n",
        "                    emissions_ipex=emissions_ipex*1000000 #convert to mg\n",
        "\n",
        "                    latency_o=time4-time3\n",
        "                    latency_msg=\"Latency: \"+str(latency_o)+\" s\"\n",
        "                    emission_msg=\"Emissions: \"+str(emissions_ipex)+\" mgCO₂eq\"\n",
        "                    bot_message = str(tokenizer.decode(outputs_o[0]))+\"\\n\"+latency_msg+\"\\n\"+emission_msg\n",
        "\n",
        "                except Exception as e:\n",
        "                    bot_message = e.__doc__\n",
        "\n",
        "                chat_history.append((message, bot_message))\n",
        "                return \"\", chat_history\n",
        "\n",
        "            msg.submit(respond, [msg, chatbot], [msg, chatbot])\n",
        "\n"
      ]
    },
    {
      "cell_type": "markdown",
      "id": "be36fba1-49ae-4329-b911-d0cbf14144ac",
      "metadata": {
        "id": "be36fba1-49ae-4329-b911-d0cbf14144ac"
      },
      "source": [
        "##### Launch the demo:"
      ]
    },
    {
      "cell_type": "code",
      "execution_count": null,
      "id": "1175e726-b0b2-4d9d-a0ee-133cdc95e9e9",
      "metadata": {
        "id": "1175e726-b0b2-4d9d-a0ee-133cdc95e9e9",
        "outputId": "504e6bd2-0fa9-45f4-da87-6b2c7e8fc007"
      },
      "outputs": [
        {
          "name": "stdout",
          "output_type": "stream",
          "text": [
            "Running on local URL:  http://127.0.0.1:7861\n"
          ]
        },
        {
          "name": "stderr",
          "output_type": "stream",
          "text": [
            "[codecarbon INFO @ 15:29:01] Energy consumed for RAM : 0.017581 kWh. RAM Power : 64.9163031578064 W\n",
            "[codecarbon INFO @ 15:29:01] Energy consumed for all CPUs : 0.011511 kWh. Total CPU Power : 42.5 W\n",
            "[codecarbon INFO @ 15:29:01] 0.029092 kWh of electricity used since the beginning.\n"
          ]
        },
        {
          "name": "stdout",
          "output_type": "stream",
          "text": [
            "Running on public URL: https://02571f8cb76fe00fb8.gradio.live\n",
            "\n",
            "This share link expires in 72 hours. For free permanent hosting and GPU upgrades, run `gradio deploy` from Terminal to deploy to Spaces (https://huggingface.co/spaces)\n"
          ]
        },
        {
          "data": {
            "text/html": [
              "<div><iframe src=\"https://02571f8cb76fe00fb8.gradio.live\" width=\"100%\" height=\"500\" allow=\"autoplay; camera; microphone; clipboard-read; clipboard-write;\" frameborder=\"0\" allowfullscreen></iframe></div>"
            ],
            "text/plain": [
              "<IPython.core.display.HTML object>"
            ]
          },
          "metadata": {},
          "output_type": "display_data"
        },
        {
          "data": {
            "text/plain": []
          },
          "execution_count": 14,
          "metadata": {},
          "output_type": "execute_result"
        },
        {
          "name": "stderr",
          "output_type": "stream",
          "text": [
            "[codecarbon INFO @ 15:29:16] Energy consumed for RAM : 0.017852 kWh. RAM Power : 64.9163031578064 W\n",
            "[codecarbon INFO @ 15:29:16] Energy consumed for all CPUs : 0.011688 kWh. Total CPU Power : 42.5 W\n",
            "[codecarbon INFO @ 15:29:16] 0.029540 kWh of electricity used since the beginning.\n",
            "[codecarbon INFO @ 15:29:31] Energy consumed for RAM : 0.018122 kWh. RAM Power : 64.9163031578064 W\n",
            "[codecarbon INFO @ 15:29:31] Energy consumed for all CPUs : 0.011865 kWh. Total CPU Power : 42.5 W\n",
            "[codecarbon INFO @ 15:29:31] 0.029987 kWh of electricity used since the beginning.\n",
            "[codecarbon INFO @ 15:29:46] Energy consumed for RAM : 0.018393 kWh. RAM Power : 64.9163031578064 W\n",
            "[codecarbon INFO @ 15:29:46] Energy consumed for all CPUs : 0.012042 kWh. Total CPU Power : 42.5 W\n",
            "[codecarbon INFO @ 15:29:46] 0.030435 kWh of electricity used since the beginning.\n",
            "[codecarbon INFO @ 15:30:01] Energy consumed for RAM : 0.018663 kWh. RAM Power : 64.9163031578064 W\n",
            "[codecarbon INFO @ 15:30:01] Energy consumed for all CPUs : 0.012219 kWh. Total CPU Power : 42.5 W\n",
            "[codecarbon INFO @ 15:30:01] 0.030882 kWh of electricity used since the beginning.\n",
            "[codecarbon INFO @ 15:30:16] Energy consumed for RAM : 0.018933 kWh. RAM Power : 64.9163031578064 W\n",
            "[codecarbon INFO @ 15:30:16] Energy consumed for all CPUs : 0.012396 kWh. Total CPU Power : 42.5 W\n",
            "[codecarbon INFO @ 15:30:16] 0.031330 kWh of electricity used since the beginning.\n",
            "[codecarbon INFO @ 15:30:31] Energy consumed for RAM : 0.019204 kWh. RAM Power : 64.9163031578064 W\n",
            "[codecarbon INFO @ 15:30:31] Energy consumed for all CPUs : 0.012574 kWh. Total CPU Power : 42.5 W\n",
            "[codecarbon INFO @ 15:30:31] 0.031777 kWh of electricity used since the beginning.\n",
            "[codecarbon INFO @ 15:30:46] Energy consumed for RAM : 0.019474 kWh. RAM Power : 64.9163031578064 W\n",
            "[codecarbon INFO @ 15:30:46] Energy consumed for all CPUs : 0.012751 kWh. Total CPU Power : 42.5 W\n",
            "[codecarbon INFO @ 15:30:46] 0.032225 kWh of electricity used since the beginning.\n",
            "[codecarbon INFO @ 15:31:01] Energy consumed for RAM : 0.019745 kWh. RAM Power : 64.9163031578064 W\n",
            "[codecarbon INFO @ 15:31:01] Energy consumed for all CPUs : 0.012928 kWh. Total CPU Power : 42.5 W\n",
            "[codecarbon INFO @ 15:31:01] 0.032673 kWh of electricity used since the beginning.\n",
            "[codecarbon INFO @ 15:31:16] Energy consumed for RAM : 0.020015 kWh. RAM Power : 64.9163031578064 W\n",
            "[codecarbon INFO @ 15:31:16] Energy consumed for all CPUs : 0.013105 kWh. Total CPU Power : 42.5 W\n",
            "[codecarbon INFO @ 15:31:16] 0.033120 kWh of electricity used since the beginning.\n",
            "[codecarbon INFO @ 15:31:31] Energy consumed for RAM : 0.020286 kWh. RAM Power : 64.9163031578064 W\n",
            "[codecarbon INFO @ 15:31:31] Energy consumed for all CPUs : 0.013282 kWh. Total CPU Power : 42.5 W\n",
            "[codecarbon INFO @ 15:31:31] 0.033568 kWh of electricity used since the beginning.\n",
            "[codecarbon INFO @ 15:31:46] Energy consumed for RAM : 0.020556 kWh. RAM Power : 64.9163031578064 W\n",
            "[codecarbon INFO @ 15:31:46] Energy consumed for all CPUs : 0.013459 kWh. Total CPU Power : 42.5 W\n",
            "[codecarbon INFO @ 15:31:46] 0.034015 kWh of electricity used since the beginning.\n",
            "[codecarbon INFO @ 15:32:01] Energy consumed for RAM : 0.020827 kWh. RAM Power : 64.9163031578064 W\n",
            "[codecarbon INFO @ 15:32:01] Energy consumed for all CPUs : 0.013636 kWh. Total CPU Power : 42.5 W\n",
            "[codecarbon INFO @ 15:32:01] 0.034463 kWh of electricity used since the beginning.\n",
            "[codecarbon INFO @ 15:32:16] Energy consumed for RAM : 0.021097 kWh. RAM Power : 64.9163031578064 W\n",
            "[codecarbon INFO @ 15:32:16] Energy consumed for all CPUs : 0.013813 kWh. Total CPU Power : 42.5 W\n",
            "[codecarbon INFO @ 15:32:16] 0.034910 kWh of electricity used since the beginning.\n",
            "[codecarbon INFO @ 15:32:31] Energy consumed for RAM : 0.021368 kWh. RAM Power : 64.9163031578064 W\n",
            "[codecarbon INFO @ 15:32:31] Energy consumed for all CPUs : 0.013990 kWh. Total CPU Power : 42.5 W\n",
            "[codecarbon INFO @ 15:32:31] 0.035358 kWh of electricity used since the beginning.\n",
            "[codecarbon INFO @ 15:32:46] Energy consumed for RAM : 0.021638 kWh. RAM Power : 64.9163031578064 W\n",
            "[codecarbon INFO @ 15:32:46] Energy consumed for all CPUs : 0.014167 kWh. Total CPU Power : 42.5 W\n",
            "[codecarbon INFO @ 15:32:46] 0.035805 kWh of electricity used since the beginning.\n",
            "[codecarbon INFO @ 15:33:01] Energy consumed for RAM : 0.021909 kWh. RAM Power : 64.9163031578064 W\n",
            "[codecarbon INFO @ 15:33:01] Energy consumed for all CPUs : 0.014344 kWh. Total CPU Power : 42.5 W\n",
            "[codecarbon INFO @ 15:33:01] 0.036253 kWh of electricity used since the beginning.\n",
            "[codecarbon INFO @ 15:33:11] [setup] RAM Tracking...\n",
            "[codecarbon INFO @ 15:33:11] [setup] GPU Tracking...\n",
            "[codecarbon INFO @ 15:33:11] No GPU found.\n",
            "[codecarbon INFO @ 15:33:11] [setup] CPU Tracking...\n",
            "[codecarbon WARNING @ 15:33:11] No CPU tracking mode found. Falling back on CPU constant mode.\n",
            "[codecarbon WARNING @ 15:33:13] We saw that you have a Intel(R) Xeon(R) Platinum 8481C CPU @ 2.70GHz but we don't know it. Please contact us.\n",
            "[codecarbon INFO @ 15:33:13] CPU Model on constant consumption mode: Intel(R) Xeon(R) Platinum 8481C CPU @ 2.70GHz\n",
            "[codecarbon INFO @ 15:33:13] >>> Tracker's metadata:\n",
            "[codecarbon INFO @ 15:33:13]   Platform system: Linux-5.15.0-1038-gcp-x86_64-with-glibc2.29\n",
            "[codecarbon INFO @ 15:33:13]   Python version: 3.8.10\n",
            "[codecarbon INFO @ 15:33:13]   CodeCarbon version: 2.2.7\n",
            "[codecarbon INFO @ 15:33:13]   Available RAM : 173.110 GB\n",
            "[codecarbon INFO @ 15:33:13]   CPU count: 88\n",
            "[codecarbon INFO @ 15:33:13]   CPU model: Intel(R) Xeon(R) Platinum 8481C CPU @ 2.70GHz\n",
            "[codecarbon INFO @ 15:33:13]   GPU count: None\n",
            "[codecarbon INFO @ 15:33:13]   GPU model: None\n",
            "[codecarbon INFO @ 15:33:16] Energy consumed for RAM : 0.022179 kWh. RAM Power : 64.9163031578064 W\n",
            "[codecarbon INFO @ 15:33:16] Energy consumed for all CPUs : 0.014521 kWh. Total CPU Power : 42.5 W\n",
            "[codecarbon INFO @ 15:33:16] 0.036700 kWh of electricity used since the beginning.\n",
            "[codecarbon INFO @ 15:33:22] Energy consumed for RAM : 0.000151 kWh. RAM Power : 64.9163031578064 W\n",
            "[codecarbon INFO @ 15:33:22] Energy consumed for all CPUs : 0.000099 kWh. Total CPU Power : 42.5 W\n",
            "[codecarbon INFO @ 15:33:22] 0.000249 kWh of electricity used since the beginning.\n",
            "[codecarbon INFO @ 15:33:31] Energy consumed for RAM : 0.022449 kWh. RAM Power : 64.9163031578064 W\n",
            "[codecarbon INFO @ 15:33:31] Energy consumed for all CPUs : 0.014698 kWh. Total CPU Power : 42.5 W\n",
            "[codecarbon INFO @ 15:33:31] 0.037148 kWh of electricity used since the beginning.\n",
            "[codecarbon INFO @ 15:33:32] [setup] RAM Tracking...\n",
            "[codecarbon INFO @ 15:33:32] [setup] GPU Tracking...\n",
            "[codecarbon INFO @ 15:33:32] No GPU found.\n",
            "[codecarbon INFO @ 15:33:32] [setup] CPU Tracking...\n",
            "[codecarbon WARNING @ 15:33:32] No CPU tracking mode found. Falling back on CPU constant mode.\n",
            "[codecarbon WARNING @ 15:33:35] We saw that you have a Intel(R) Xeon(R) Platinum 8481C CPU @ 2.70GHz but we don't know it. Please contact us.\n",
            "[codecarbon INFO @ 15:33:35] CPU Model on constant consumption mode: Intel(R) Xeon(R) Platinum 8481C CPU @ 2.70GHz\n",
            "[codecarbon INFO @ 15:33:35] >>> Tracker's metadata:\n",
            "[codecarbon INFO @ 15:33:35]   Platform system: Linux-5.15.0-1038-gcp-x86_64-with-glibc2.29\n",
            "[codecarbon INFO @ 15:33:35]   Python version: 3.8.10\n",
            "[codecarbon INFO @ 15:33:35]   CodeCarbon version: 2.2.7\n",
            "[codecarbon INFO @ 15:33:35]   Available RAM : 173.110 GB\n",
            "[codecarbon INFO @ 15:33:35]   CPU count: 88\n",
            "[codecarbon INFO @ 15:33:35]   CPU model: Intel(R) Xeon(R) Platinum 8481C CPU @ 2.70GHz\n",
            "[codecarbon INFO @ 15:33:35]   GPU count: None\n",
            "[codecarbon INFO @ 15:33:35]   GPU model: None\n",
            "[codecarbon INFO @ 15:33:41] Energy consumed for RAM : 0.000109 kWh. RAM Power : 64.9163031578064 W\n",
            "[codecarbon INFO @ 15:33:41] Energy consumed for all CPUs : 0.000071 kWh. Total CPU Power : 42.5 W\n",
            "[codecarbon INFO @ 15:33:41] 0.000180 kWh of electricity used since the beginning.\n",
            "[codecarbon INFO @ 15:33:46] Energy consumed for RAM : 0.022720 kWh. RAM Power : 64.9163031578064 W\n",
            "[codecarbon INFO @ 15:33:46] Energy consumed for all CPUs : 0.014876 kWh. Total CPU Power : 42.5 W\n",
            "[codecarbon INFO @ 15:33:46] 0.037595 kWh of electricity used since the beginning.\n",
            "[codecarbon INFO @ 15:34:01] Energy consumed for RAM : 0.022990 kWh. RAM Power : 64.9163031578064 W\n",
            "[codecarbon INFO @ 15:34:01] Energy consumed for all CPUs : 0.015053 kWh. Total CPU Power : 42.5 W\n",
            "[codecarbon INFO @ 15:34:01] 0.038043 kWh of electricity used since the beginning.\n",
            "[codecarbon INFO @ 15:34:06] [setup] RAM Tracking...\n",
            "[codecarbon INFO @ 15:34:06] [setup] GPU Tracking...\n",
            "[codecarbon INFO @ 15:34:06] No GPU found.\n",
            "[codecarbon INFO @ 15:34:06] [setup] CPU Tracking...\n",
            "[codecarbon WARNING @ 15:34:06] No CPU tracking mode found. Falling back on CPU constant mode.\n",
            "[codecarbon WARNING @ 15:34:09] We saw that you have a Intel(R) Xeon(R) Platinum 8481C CPU @ 2.70GHz but we don't know it. Please contact us.\n",
            "[codecarbon INFO @ 15:34:09] CPU Model on constant consumption mode: Intel(R) Xeon(R) Platinum 8481C CPU @ 2.70GHz\n",
            "[codecarbon INFO @ 15:34:09] >>> Tracker's metadata:\n",
            "[codecarbon INFO @ 15:34:09]   Platform system: Linux-5.15.0-1038-gcp-x86_64-with-glibc2.29\n",
            "[codecarbon INFO @ 15:34:09]   Python version: 3.8.10\n",
            "[codecarbon INFO @ 15:34:09]   CodeCarbon version: 2.2.7\n",
            "[codecarbon INFO @ 15:34:09]   Available RAM : 173.110 GB\n",
            "[codecarbon INFO @ 15:34:09]   CPU count: 88\n",
            "[codecarbon INFO @ 15:34:09]   CPU model: Intel(R) Xeon(R) Platinum 8481C CPU @ 2.70GHz\n",
            "[codecarbon INFO @ 15:34:09]   GPU count: None\n",
            "[codecarbon INFO @ 15:34:09]   GPU model: None\n",
            "[codecarbon INFO @ 15:34:16] Energy consumed for RAM : 0.023261 kWh. RAM Power : 64.9163031578064 W\n",
            "[codecarbon INFO @ 15:34:16] Energy consumed for all CPUs : 0.015230 kWh. Total CPU Power : 42.5 W\n",
            "[codecarbon INFO @ 15:34:16] 0.038491 kWh of electricity used since the beginning.\n",
            "[codecarbon INFO @ 15:34:24] Energy consumed for RAM : 0.000270 kWh. RAM Power : 64.9163031578064 W\n",
            "[codecarbon INFO @ 15:34:24] Energy consumed for all CPUs : 0.000177 kWh. Total CPU Power : 42.5 W\n",
            "[codecarbon INFO @ 15:34:24] 0.000448 kWh of electricity used since the beginning.\n",
            "[codecarbon INFO @ 15:34:31] Energy consumed for RAM : 0.023531 kWh. RAM Power : 64.9163031578064 W\n",
            "[codecarbon INFO @ 15:34:31] Energy consumed for all CPUs : 0.015407 kWh. Total CPU Power : 42.5 W\n",
            "[codecarbon INFO @ 15:34:31] 0.038938 kWh of electricity used since the beginning.\n",
            "[codecarbon INFO @ 15:34:39] Energy consumed for RAM : 0.000541 kWh. RAM Power : 64.9163031578064 W\n",
            "[codecarbon INFO @ 15:34:39] Energy consumed for all CPUs : 0.000354 kWh. Total CPU Power : 42.5 W\n",
            "[codecarbon INFO @ 15:34:39] 0.000895 kWh of electricity used since the beginning.\n",
            "[codecarbon INFO @ 15:34:46] Energy consumed for RAM : 0.023802 kWh. RAM Power : 64.9163031578064 W\n",
            "[codecarbon INFO @ 15:34:46] Energy consumed for all CPUs : 0.015584 kWh. Total CPU Power : 42.5 W\n",
            "[codecarbon INFO @ 15:34:46] 0.039386 kWh of electricity used since the beginning.\n",
            "[codecarbon INFO @ 15:34:54] Energy consumed for RAM : 0.000811 kWh. RAM Power : 64.9163031578064 W\n",
            "[codecarbon INFO @ 15:34:54] Energy consumed for all CPUs : 0.000531 kWh. Total CPU Power : 42.5 W\n",
            "[codecarbon INFO @ 15:34:54] 0.001343 kWh of electricity used since the beginning.\n",
            "[codecarbon INFO @ 15:35:01] Energy consumed for RAM : 0.024072 kWh. RAM Power : 64.9163031578064 W\n",
            "[codecarbon INFO @ 15:35:01] Energy consumed for all CPUs : 0.015761 kWh. Total CPU Power : 42.5 W\n",
            "[codecarbon INFO @ 15:35:01] 0.039833 kWh of electricity used since the beginning.\n",
            "[codecarbon INFO @ 15:35:09] Energy consumed for RAM : 0.001082 kWh. RAM Power : 64.9163031578064 W\n",
            "[codecarbon INFO @ 15:35:09] Energy consumed for all CPUs : 0.000708 kWh. Total CPU Power : 42.5 W\n",
            "[codecarbon INFO @ 15:35:09] 0.001790 kWh of electricity used since the beginning.\n",
            "[codecarbon INFO @ 15:35:16] Energy consumed for RAM : 0.024343 kWh. RAM Power : 64.9163031578064 W\n",
            "[codecarbon INFO @ 15:35:16] Energy consumed for all CPUs : 0.015938 kWh. Total CPU Power : 42.5 W\n",
            "[codecarbon INFO @ 15:35:16] 0.040281 kWh of electricity used since the beginning.\n",
            "[codecarbon INFO @ 15:35:24] Energy consumed for RAM : 0.001352 kWh. RAM Power : 64.9163031578064 W\n",
            "[codecarbon INFO @ 15:35:24] Energy consumed for all CPUs : 0.000885 kWh. Total CPU Power : 42.5 W\n",
            "[codecarbon INFO @ 15:35:24] 0.002238 kWh of electricity used since the beginning.\n",
            "[codecarbon INFO @ 15:35:31] Energy consumed for RAM : 0.024613 kWh. RAM Power : 64.9163031578064 W\n",
            "[codecarbon INFO @ 15:35:31] Energy consumed for all CPUs : 0.016115 kWh. Total CPU Power : 42.5 W\n",
            "[codecarbon INFO @ 15:35:31] 0.040728 kWh of electricity used since the beginning.\n",
            "[codecarbon INFO @ 15:35:39] Energy consumed for RAM : 0.001623 kWh. RAM Power : 64.9163031578064 W\n",
            "[codecarbon INFO @ 15:35:39] Energy consumed for all CPUs : 0.001062 kWh. Total CPU Power : 42.5 W\n",
            "[codecarbon INFO @ 15:35:39] 0.002685 kWh of electricity used since the beginning.\n",
            "[codecarbon INFO @ 15:35:46] Energy consumed for RAM : 0.024884 kWh. RAM Power : 64.9163031578064 W\n",
            "[codecarbon INFO @ 15:35:46] Energy consumed for all CPUs : 0.016292 kWh. Total CPU Power : 42.5 W\n",
            "[codecarbon INFO @ 15:35:46] 0.041176 kWh of electricity used since the beginning.\n",
            "[codecarbon INFO @ 15:35:54] Energy consumed for RAM : 0.001893 kWh. RAM Power : 64.9163031578064 W\n",
            "[codecarbon INFO @ 15:35:54] Energy consumed for all CPUs : 0.001240 kWh. Total CPU Power : 42.5 W\n",
            "[codecarbon INFO @ 15:35:54] 0.003133 kWh of electricity used since the beginning.\n",
            "[codecarbon INFO @ 15:36:01] Energy consumed for RAM : 0.025154 kWh. RAM Power : 64.9163031578064 W\n",
            "[codecarbon INFO @ 15:36:01] Energy consumed for all CPUs : 0.016469 kWh. Total CPU Power : 42.5 W\n",
            "[codecarbon INFO @ 15:36:01] 0.041623 kWh of electricity used since the beginning.\n",
            "[codecarbon INFO @ 15:36:09] Energy consumed for RAM : 0.002164 kWh. RAM Power : 64.9163031578064 W\n",
            "[codecarbon INFO @ 15:36:09] Energy consumed for all CPUs : 0.001417 kWh. Total CPU Power : 42.5 W\n",
            "[codecarbon INFO @ 15:36:09] 0.003580 kWh of electricity used since the beginning.\n",
            "[codecarbon INFO @ 15:36:16] Energy consumed for RAM : 0.025424 kWh. RAM Power : 64.9163031578064 W\n",
            "[codecarbon INFO @ 15:36:16] Energy consumed for all CPUs : 0.016646 kWh. Total CPU Power : 42.5 W\n",
            "[codecarbon INFO @ 15:36:16] 0.042071 kWh of electricity used since the beginning.\n",
            "[codecarbon INFO @ 15:36:24] Energy consumed for RAM : 0.002434 kWh. RAM Power : 64.9163031578064 W\n",
            "[codecarbon INFO @ 15:36:24] Energy consumed for all CPUs : 0.001594 kWh. Total CPU Power : 42.5 W\n",
            "[codecarbon INFO @ 15:36:24] 0.004028 kWh of electricity used since the beginning.\n",
            "[codecarbon INFO @ 15:36:31] Energy consumed for RAM : 0.025695 kWh. RAM Power : 64.9163031578064 W\n",
            "[codecarbon INFO @ 15:36:31] Energy consumed for all CPUs : 0.016823 kWh. Total CPU Power : 42.5 W\n",
            "[codecarbon INFO @ 15:36:31] 0.042518 kWh of electricity used since the beginning.\n",
            "[codecarbon INFO @ 15:36:39] Energy consumed for RAM : 0.002705 kWh. RAM Power : 64.9163031578064 W\n",
            "[codecarbon INFO @ 15:36:39] Energy consumed for all CPUs : 0.001771 kWh. Total CPU Power : 42.5 W\n",
            "[codecarbon INFO @ 15:36:39] 0.004475 kWh of electricity used since the beginning.\n",
            "[codecarbon INFO @ 15:36:46] Energy consumed for RAM : 0.025965 kWh. RAM Power : 64.9163031578064 W\n",
            "[codecarbon INFO @ 15:36:46] Energy consumed for all CPUs : 0.017000 kWh. Total CPU Power : 42.5 W\n",
            "[codecarbon INFO @ 15:36:46] 0.042966 kWh of electricity used since the beginning.\n",
            "[codecarbon INFO @ 15:36:54] Energy consumed for RAM : 0.002975 kWh. RAM Power : 64.9163031578064 W\n",
            "[codecarbon INFO @ 15:36:54] Energy consumed for all CPUs : 0.001948 kWh. Total CPU Power : 42.5 W\n",
            "[codecarbon INFO @ 15:36:54] 0.004923 kWh of electricity used since the beginning.\n",
            "[codecarbon INFO @ 15:37:01] Energy consumed for RAM : 0.026236 kWh. RAM Power : 64.9163031578064 W\n",
            "[codecarbon INFO @ 15:37:01] Energy consumed for all CPUs : 0.017178 kWh. Total CPU Power : 42.5 W\n",
            "[codecarbon INFO @ 15:37:01] 0.043413 kWh of electricity used since the beginning.\n",
            "[codecarbon INFO @ 15:37:09] Energy consumed for RAM : 0.003246 kWh. RAM Power : 64.9163031578064 W\n",
            "[codecarbon INFO @ 15:37:09] Energy consumed for all CPUs : 0.002125 kWh. Total CPU Power : 42.5 W\n",
            "[codecarbon INFO @ 15:37:09] 0.005370 kWh of electricity used since the beginning.\n",
            "[codecarbon INFO @ 15:37:16] Energy consumed for RAM : 0.026506 kWh. RAM Power : 64.9163031578064 W\n",
            "[codecarbon INFO @ 15:37:16] Energy consumed for all CPUs : 0.017355 kWh. Total CPU Power : 42.5 W\n",
            "[codecarbon INFO @ 15:37:16] 0.043861 kWh of electricity used since the beginning.\n",
            "[codecarbon INFO @ 15:37:24] Energy consumed for RAM : 0.003516 kWh. RAM Power : 64.9163031578064 W\n",
            "[codecarbon INFO @ 15:37:24] Energy consumed for all CPUs : 0.002302 kWh. Total CPU Power : 42.5 W\n",
            "[codecarbon INFO @ 15:37:24] 0.005818 kWh of electricity used since the beginning.\n",
            "[codecarbon INFO @ 15:37:31] Energy consumed for RAM : 0.026777 kWh. RAM Power : 64.9163031578064 W\n",
            "[codecarbon INFO @ 15:37:31] Energy consumed for all CPUs : 0.017532 kWh. Total CPU Power : 42.5 W\n",
            "[codecarbon INFO @ 15:37:31] 0.044308 kWh of electricity used since the beginning.\n",
            "[codecarbon INFO @ 15:37:39] Energy consumed for RAM : 0.003786 kWh. RAM Power : 64.9163031578064 W\n",
            "[codecarbon INFO @ 15:37:39] Energy consumed for all CPUs : 0.002479 kWh. Total CPU Power : 42.5 W\n",
            "[codecarbon INFO @ 15:37:39] 0.006266 kWh of electricity used since the beginning.\n",
            "[codecarbon INFO @ 15:37:46] Energy consumed for RAM : 0.027047 kWh. RAM Power : 64.9163031578064 W\n",
            "[codecarbon INFO @ 15:37:46] Energy consumed for all CPUs : 0.017709 kWh. Total CPU Power : 42.5 W\n",
            "[codecarbon INFO @ 15:37:46] 0.044756 kWh of electricity used since the beginning.\n",
            "[codecarbon INFO @ 15:37:54] Energy consumed for RAM : 0.004057 kWh. RAM Power : 64.9163031578064 W\n",
            "[codecarbon INFO @ 15:37:54] Energy consumed for all CPUs : 0.002656 kWh. Total CPU Power : 42.5 W\n",
            "[codecarbon INFO @ 15:37:54] 0.006713 kWh of electricity used since the beginning.\n",
            "[codecarbon INFO @ 15:38:01] Energy consumed for RAM : 0.027318 kWh. RAM Power : 64.9163031578064 W\n",
            "[codecarbon INFO @ 15:38:01] Energy consumed for all CPUs : 0.017886 kWh. Total CPU Power : 42.5 W\n",
            "[codecarbon INFO @ 15:38:01] 0.045204 kWh of electricity used since the beginning.\n",
            "[codecarbon INFO @ 15:38:09] Energy consumed for RAM : 0.004327 kWh. RAM Power : 64.9163031578064 W\n",
            "[codecarbon INFO @ 15:38:09] Energy consumed for all CPUs : 0.002833 kWh. Total CPU Power : 42.5 W\n",
            "[codecarbon INFO @ 15:38:09] 0.007161 kWh of electricity used since the beginning.\n",
            "[codecarbon INFO @ 15:38:16] Energy consumed for RAM : 0.027588 kWh. RAM Power : 64.9163031578064 W\n",
            "[codecarbon INFO @ 15:38:16] Energy consumed for all CPUs : 0.018063 kWh. Total CPU Power : 42.5 W\n",
            "[codecarbon INFO @ 15:38:16] 0.045651 kWh of electricity used since the beginning.\n",
            "[codecarbon INFO @ 15:38:24] Energy consumed for RAM : 0.004598 kWh. RAM Power : 64.9163031578064 W\n",
            "[codecarbon INFO @ 15:38:24] Energy consumed for all CPUs : 0.003010 kWh. Total CPU Power : 42.5 W\n",
            "[codecarbon INFO @ 15:38:24] 0.007608 kWh of electricity used since the beginning.\n",
            "[codecarbon INFO @ 15:38:31] Energy consumed for RAM : 0.027859 kWh. RAM Power : 64.9163031578064 W\n",
            "[codecarbon INFO @ 15:38:31] Energy consumed for all CPUs : 0.018240 kWh. Total CPU Power : 42.5 W\n",
            "[codecarbon INFO @ 15:38:31] 0.046099 kWh of electricity used since the beginning.\n",
            "[codecarbon INFO @ 15:38:39] Energy consumed for RAM : 0.004868 kWh. RAM Power : 64.9163031578064 W\n",
            "[codecarbon INFO @ 15:38:39] Energy consumed for all CPUs : 0.003187 kWh. Total CPU Power : 42.5 W\n",
            "[codecarbon INFO @ 15:38:39] 0.008056 kWh of electricity used since the beginning.\n",
            "[codecarbon INFO @ 15:38:46] Energy consumed for RAM : 0.028129 kWh. RAM Power : 64.9163031578064 W\n",
            "[codecarbon INFO @ 15:38:46] Energy consumed for all CPUs : 0.018417 kWh. Total CPU Power : 42.5 W\n",
            "[codecarbon INFO @ 15:38:46] 0.046546 kWh of electricity used since the beginning.\n",
            "[codecarbon INFO @ 15:38:54] Energy consumed for RAM : 0.005139 kWh. RAM Power : 64.9163031578064 W\n",
            "[codecarbon INFO @ 15:38:54] Energy consumed for all CPUs : 0.003364 kWh. Total CPU Power : 42.5 W\n",
            "[codecarbon INFO @ 15:38:54] 0.008503 kWh of electricity used since the beginning.\n",
            "[codecarbon INFO @ 15:39:01] Energy consumed for RAM : 0.028399 kWh. RAM Power : 64.9163031578064 W\n",
            "[codecarbon INFO @ 15:39:01] Energy consumed for all CPUs : 0.018594 kWh. Total CPU Power : 42.5 W\n",
            "[codecarbon INFO @ 15:39:01] 0.046994 kWh of electricity used since the beginning.\n",
            "[codecarbon INFO @ 15:39:09] Energy consumed for RAM : 0.005409 kWh. RAM Power : 64.9163031578064 W\n",
            "[codecarbon INFO @ 15:39:09] Energy consumed for all CPUs : 0.003542 kWh. Total CPU Power : 42.5 W\n",
            "[codecarbon INFO @ 15:39:09] 0.008951 kWh of electricity used since the beginning.\n",
            "[codecarbon INFO @ 15:39:16] Energy consumed for RAM : 0.028670 kWh. RAM Power : 64.9163031578064 W\n",
            "[codecarbon INFO @ 15:39:16] Energy consumed for all CPUs : 0.018771 kWh. Total CPU Power : 42.5 W\n",
            "[codecarbon INFO @ 15:39:16] 0.047441 kWh of electricity used since the beginning.\n",
            "[codecarbon INFO @ 15:39:24] Energy consumed for RAM : 0.005680 kWh. RAM Power : 64.9163031578064 W\n",
            "[codecarbon INFO @ 15:39:24] Energy consumed for all CPUs : 0.003719 kWh. Total CPU Power : 42.5 W\n",
            "[codecarbon INFO @ 15:39:24] 0.009398 kWh of electricity used since the beginning.\n",
            "[codecarbon INFO @ 15:39:31] Energy consumed for RAM : 0.028940 kWh. RAM Power : 64.9163031578064 W\n",
            "[codecarbon INFO @ 15:39:31] Energy consumed for all CPUs : 0.018948 kWh. Total CPU Power : 42.5 W\n",
            "[codecarbon INFO @ 15:39:31] 0.047889 kWh of electricity used since the beginning.\n",
            "[codecarbon INFO @ 15:39:39] Energy consumed for RAM : 0.005950 kWh. RAM Power : 64.9163031578064 W\n",
            "[codecarbon INFO @ 15:39:39] Energy consumed for all CPUs : 0.003896 kWh. Total CPU Power : 42.5 W\n",
            "[codecarbon INFO @ 15:39:39] 0.009846 kWh of electricity used since the beginning.\n",
            "[codecarbon INFO @ 15:39:46] Energy consumed for RAM : 0.029211 kWh. RAM Power : 64.9163031578064 W\n",
            "[codecarbon INFO @ 15:39:46] Energy consumed for all CPUs : 0.019125 kWh. Total CPU Power : 42.5 W\n",
            "[codecarbon INFO @ 15:39:46] 0.048336 kWh of electricity used since the beginning.\n",
            "[codecarbon INFO @ 15:39:54] Energy consumed for RAM : 0.006221 kWh. RAM Power : 64.9163031578064 W\n",
            "[codecarbon INFO @ 15:39:54] Energy consumed for all CPUs : 0.004073 kWh. Total CPU Power : 42.5 W\n",
            "[codecarbon INFO @ 15:39:54] 0.010293 kWh of electricity used since the beginning.\n",
            "[codecarbon INFO @ 15:40:01] Energy consumed for RAM : 0.029481 kWh. RAM Power : 64.9163031578064 W\n",
            "[codecarbon INFO @ 15:40:01] Energy consumed for all CPUs : 0.019302 kWh. Total CPU Power : 42.5 W\n",
            "[codecarbon INFO @ 15:40:01] 0.048784 kWh of electricity used since the beginning.\n",
            "[codecarbon INFO @ 15:40:09] Energy consumed for RAM : 0.006491 kWh. RAM Power : 64.9163031578064 W\n",
            "[codecarbon INFO @ 15:40:09] Energy consumed for all CPUs : 0.004250 kWh. Total CPU Power : 42.5 W\n",
            "[codecarbon INFO @ 15:40:09] 0.010741 kWh of electricity used since the beginning.\n",
            "[codecarbon INFO @ 15:40:16] Energy consumed for RAM : 0.029752 kWh. RAM Power : 64.9163031578064 W\n",
            "[codecarbon INFO @ 15:40:16] Energy consumed for all CPUs : 0.019480 kWh. Total CPU Power : 42.5 W\n",
            "[codecarbon INFO @ 15:40:16] 0.049231 kWh of electricity used since the beginning.\n",
            "[codecarbon INFO @ 15:40:24] Energy consumed for RAM : 0.006761 kWh. RAM Power : 64.9163031578064 W\n",
            "[codecarbon INFO @ 15:40:24] Energy consumed for all CPUs : 0.004427 kWh. Total CPU Power : 42.5 W\n",
            "[codecarbon INFO @ 15:40:24] 0.011188 kWh of electricity used since the beginning.\n",
            "[codecarbon INFO @ 15:40:31] Energy consumed for RAM : 0.030022 kWh. RAM Power : 64.9163031578064 W\n",
            "[codecarbon INFO @ 15:40:31] Energy consumed for all CPUs : 0.019657 kWh. Total CPU Power : 42.5 W\n",
            "[codecarbon INFO @ 15:40:31] 0.049679 kWh of electricity used since the beginning.\n",
            "[codecarbon INFO @ 15:40:39] Energy consumed for RAM : 0.007032 kWh. RAM Power : 64.9163031578064 W\n",
            "[codecarbon INFO @ 15:40:39] Energy consumed for all CPUs : 0.004604 kWh. Total CPU Power : 42.5 W\n",
            "[codecarbon INFO @ 15:40:39] 0.011636 kWh of electricity used since the beginning.\n",
            "[codecarbon INFO @ 15:40:46] Energy consumed for RAM : 0.030293 kWh. RAM Power : 64.9163031578064 W\n",
            "[codecarbon INFO @ 15:40:46] Energy consumed for all CPUs : 0.019834 kWh. Total CPU Power : 42.5 W\n",
            "[codecarbon INFO @ 15:40:46] 0.050126 kWh of electricity used since the beginning.\n",
            "[codecarbon INFO @ 15:40:54] Energy consumed for RAM : 0.007302 kWh. RAM Power : 64.9163031578064 W\n",
            "[codecarbon INFO @ 15:40:54] Energy consumed for all CPUs : 0.004781 kWh. Total CPU Power : 42.5 W\n",
            "[codecarbon INFO @ 15:40:54] 0.012084 kWh of electricity used since the beginning.\n",
            "[codecarbon INFO @ 15:41:01] Energy consumed for RAM : 0.030563 kWh. RAM Power : 64.9163031578064 W\n",
            "[codecarbon INFO @ 15:41:01] Energy consumed for all CPUs : 0.020011 kWh. Total CPU Power : 42.5 W\n",
            "[codecarbon INFO @ 15:41:01] 0.050574 kWh of electricity used since the beginning.\n",
            "[codecarbon INFO @ 15:41:09] Energy consumed for RAM : 0.007573 kWh. RAM Power : 64.9163031578064 W\n",
            "[codecarbon INFO @ 15:41:09] Energy consumed for all CPUs : 0.004958 kWh. Total CPU Power : 42.5 W\n",
            "[codecarbon INFO @ 15:41:09] 0.012531 kWh of electricity used since the beginning.\n",
            "[codecarbon INFO @ 15:41:16] Energy consumed for RAM : 0.030834 kWh. RAM Power : 64.9163031578064 W\n",
            "[codecarbon INFO @ 15:41:16] Energy consumed for all CPUs : 0.020188 kWh. Total CPU Power : 42.5 W\n",
            "[codecarbon INFO @ 15:41:16] 0.051022 kWh of electricity used since the beginning.\n",
            "[codecarbon INFO @ 15:41:24] Energy consumed for RAM : 0.007843 kWh. RAM Power : 64.9163031578064 W\n",
            "[codecarbon INFO @ 15:41:24] Energy consumed for all CPUs : 0.005135 kWh. Total CPU Power : 42.5 W\n",
            "[codecarbon INFO @ 15:41:24] 0.012979 kWh of electricity used since the beginning.\n",
            "[codecarbon INFO @ 15:41:31] Energy consumed for RAM : 0.031104 kWh. RAM Power : 64.9163031578064 W\n",
            "[codecarbon INFO @ 15:41:31] Energy consumed for all CPUs : 0.020365 kWh. Total CPU Power : 42.5 W\n",
            "[codecarbon INFO @ 15:41:31] 0.051469 kWh of electricity used since the beginning.\n",
            "[codecarbon INFO @ 15:41:39] Energy consumed for RAM : 0.008114 kWh. RAM Power : 64.9163031578064 W\n",
            "[codecarbon INFO @ 15:41:39] Energy consumed for all CPUs : 0.005312 kWh. Total CPU Power : 42.5 W\n",
            "[codecarbon INFO @ 15:41:39] 0.013426 kWh of electricity used since the beginning.\n"
          ]
        }
      ],
      "source": [
        "#share=True if you want a public link to get access to your demo\n",
        "demo.launch(share=True)"
      ]
    },
    {
      "cell_type": "code",
      "execution_count": null,
      "id": "df3c991a-18d8-4e21-9ad1-477ef9f82331",
      "metadata": {
        "id": "df3c991a-18d8-4e21-9ad1-477ef9f82331"
      },
      "outputs": [],
      "source": []
    }
  ],
  "metadata": {
    "kernelspec": {
      "display_name": "Python 3 (ipykernel)",
      "language": "python",
      "name": "python3"
    },
    "language_info": {
      "codemirror_mode": {
        "name": "ipython",
        "version": 3
      },
      "file_extension": ".py",
      "mimetype": "text/x-python",
      "name": "python",
      "nbconvert_exporter": "python",
      "pygments_lexer": "ipython3",
      "version": "3.8.10"
    },
    "colab": {
      "provenance": []
    }
  },
  "nbformat": 4,
  "nbformat_minor": 5
}